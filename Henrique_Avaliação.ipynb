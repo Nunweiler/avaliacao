{
  "nbformat": 4,
  "nbformat_minor": 0,
  "metadata": {
    "colab": {
      "name": "Henrique Avaliação.ipynb",
      "provenance": [],
      "collapsed_sections": []
    },
    "kernelspec": {
      "name": "python3",
      "display_name": "Python 3"
    }
  },
  "cells": [
    {
      "cell_type": "markdown",
      "metadata": {
        "id": "bPHxrj9Q5kCb",
        "colab_type": "text"
      },
      "source": [
        "Seja bem vindo a Avaliação para Engenheiro de Dados - Data Sprints 2020\n",
        "\n",
        "Desenvolvido por Henrique Nunweiler - LinkedIn https://www.linkedin.com/in/henrique-nunweiler\n",
        "\n",
        "Segue abaixo a descrição do que será desenvolvido:\n",
        "\n",
        "1.   Qual a distância média percorrida por viagens com no máximo 2 passageiros; \n",
        "2.   Quais os 3 maiores vendors em quantidade total de dinheiro arrecadado;\n",
        "3.   Faça um histograma da distribuição mensal, nos 4 anos, de corridas pagas em dinheiro.\n",
        "\n",
        "\n",
        "---\n",
        "\n",
        "\n",
        "\n",
        "\n",
        "\n",
        "\n"
      ]
    },
    {
      "cell_type": "code",
      "metadata": {
        "id": "9OrYCFAE60Mk",
        "colab_type": "code",
        "colab": {}
      },
      "source": [
        "# Importando Bibliotecas e Assistentes\n",
        "import pandas as pd\n",
        "import datetime\n",
        "#from google.colab import drive\n",
        "#drive.mount('/content/gdrive')\n",
        "import matplotlib.pyplot as plt\n",
        "from matplotlib import style"
      ],
      "execution_count": 4,
      "outputs": []
    },
    {
      "cell_type": "markdown",
      "metadata": {
        "id": "EjRGW0lj6sng",
        "colab_type": "text"
      },
      "source": [
        ""
      ]
    },
    {
      "cell_type": "code",
      "metadata": {
        "id": "NupUFLol9etp",
        "colab_type": "code",
        "colab": {}
      },
      "source": [
        "# Importando arquivos para tratamento - Arquivos .csv #\n",
        "paymentData = pd.read_csv('data/payments.csv')\n",
        "vendorsData = pd.read_csv('data/vendors.csv')\n",
        "\n",
        "# Importando arquivos para tratamento - Massa de Dados #\n",
        "data2009 = pd.read_json('https://s3.amazonaws.com/data-sprints-eng-test/data-sample_data-nyctaxi-trips-2009-json_corrigido.json',lines=True)\n",
        "data2010 = pd.read_json('https://s3.amazonaws.com/data-sprints-eng-test/data-sample_data-nyctaxi-trips-2010-json_corrigido.json',lines=True)\n",
        "data2011 = pd.read_json('https://s3.amazonaws.com/data-sprints-eng-test/data-sample_data-nyctaxi-trips-2011-json_corrigido.json',lines=True)\n",
        "data2012 = pd.read_json('https://s3.amazonaws.com/data-sprints-eng-test/data-sample_data-nyctaxi-trips-2012-json_corrigido.json',lines=True)"
      ],
      "execution_count": 6,
      "outputs": []
    },
    {
      "cell_type": "code",
      "metadata": {
        "id": "74kHW9IFC8lY",
        "colab_type": "code",
        "colab": {
          "base_uri": "https://localhost:8080/",
          "height": 197
        },
        "outputId": "886a780b-e780-4ee0-93ec-8fdcef66217f"
      },
      "source": [
        "#Verificando o Status dos Arquivos da Massa de Dados\n",
        "data2009.head()\n",
        "data2010.head()\n",
        "data2011.head()\n",
        "data2012.head()\n",
        "\n",
        "# Verificando o Status dos Arquivos .csv\n",
        "paymentData.head()\n",
        "vendorsData.head()"
      ],
      "execution_count": 7,
      "outputs": [
        {
          "output_type": "execute_result",
          "data": {
            "text/html": [
              "<div>\n",
              "<style scoped>\n",
              "    .dataframe tbody tr th:only-of-type {\n",
              "        vertical-align: middle;\n",
              "    }\n",
              "\n",
              "    .dataframe tbody tr th {\n",
              "        vertical-align: top;\n",
              "    }\n",
              "\n",
              "    .dataframe thead th {\n",
              "        text-align: right;\n",
              "    }\n",
              "</style>\n",
              "<table border=\"1\" class=\"dataframe\">\n",
              "  <thead>\n",
              "    <tr style=\"text-align: right;\">\n",
              "      <th></th>\n",
              "      <th>vendor_id</th>\n",
              "      <th>name</th>\n",
              "      <th>address</th>\n",
              "      <th>city</th>\n",
              "      <th>state</th>\n",
              "      <th>zip</th>\n",
              "      <th>country</th>\n",
              "      <th>contact</th>\n",
              "      <th>current</th>\n",
              "    </tr>\n",
              "  </thead>\n",
              "  <tbody>\n",
              "    <tr>\n",
              "      <th>0</th>\n",
              "      <td>CMT</td>\n",
              "      <td>Creative Mobile Technologies, LLC</td>\n",
              "      <td>950 4th Road Suite 78</td>\n",
              "      <td>Brooklyn</td>\n",
              "      <td>NY</td>\n",
              "      <td>11210</td>\n",
              "      <td>USA</td>\n",
              "      <td>contactCMT@gmail.com</td>\n",
              "      <td>Yes</td>\n",
              "    </tr>\n",
              "    <tr>\n",
              "      <th>1</th>\n",
              "      <td>VTS</td>\n",
              "      <td>VeriFone Inc</td>\n",
              "      <td>26 Summit St.</td>\n",
              "      <td>Flushing</td>\n",
              "      <td>NY</td>\n",
              "      <td>11354</td>\n",
              "      <td>USA</td>\n",
              "      <td>admin@vtstaxi.com</td>\n",
              "      <td>Yes</td>\n",
              "    </tr>\n",
              "    <tr>\n",
              "      <th>2</th>\n",
              "      <td>DDS</td>\n",
              "      <td>Dependable Driver Service, Inc</td>\n",
              "      <td>8554 North Homestead St.</td>\n",
              "      <td>Bronx</td>\n",
              "      <td>NY</td>\n",
              "      <td>10472</td>\n",
              "      <td>USA</td>\n",
              "      <td>9778896500</td>\n",
              "      <td>Yes</td>\n",
              "    </tr>\n",
              "    <tr>\n",
              "      <th>3</th>\n",
              "      <td>TS</td>\n",
              "      <td>Total Solutions Co</td>\n",
              "      <td>Five Boroughs Taxi Co.</td>\n",
              "      <td>Brooklyn</td>\n",
              "      <td>NY</td>\n",
              "      <td>11229</td>\n",
              "      <td>USA</td>\n",
              "      <td>mgmt@5btc.com</td>\n",
              "      <td>Yes</td>\n",
              "    </tr>\n",
              "    <tr>\n",
              "      <th>4</th>\n",
              "      <td>MT</td>\n",
              "      <td>Mega Taxi</td>\n",
              "      <td>4 East Jennings St.</td>\n",
              "      <td>Brooklyn</td>\n",
              "      <td>NY</td>\n",
              "      <td>11228</td>\n",
              "      <td>USA</td>\n",
              "      <td>contact@megataxico.com</td>\n",
              "      <td>No</td>\n",
              "    </tr>\n",
              "  </tbody>\n",
              "</table>\n",
              "</div>"
            ],
            "text/plain": [
              "  vendor_id                               name  ...                 contact current\n",
              "0       CMT  Creative Mobile Technologies, LLC  ...    contactCMT@gmail.com     Yes\n",
              "1       VTS                       VeriFone Inc  ...       admin@vtstaxi.com     Yes\n",
              "2       DDS     Dependable Driver Service, Inc  ...              9778896500     Yes\n",
              "3        TS                 Total Solutions Co  ...           mgmt@5btc.com     Yes\n",
              "4        MT                          Mega Taxi  ...  contact@megataxico.com      No\n",
              "\n",
              "[5 rows x 9 columns]"
            ]
          },
          "metadata": {
            "tags": []
          },
          "execution_count": 7
        }
      ]
    },
    {
      "cell_type": "code",
      "metadata": {
        "id": "ltchAQwVD7_j",
        "colab_type": "code",
        "colab": {
          "base_uri": "https://localhost:8080/",
          "height": 309
        },
        "outputId": "08830aa6-73d9-4af2-bd26-91a59d111a90"
      },
      "source": [
        "# Concatenar tabelas em uma única variável\n",
        "carregamentoAnos = [data2009,data2010,data2011,data2012]\n",
        "\n",
        "# Concatenando e transformando o dataset para criar a variável 'trips' que será utilizada a seguir\n",
        "trips = pd.concat(carregamentoAnos,ignore_index=True,sort=True)\n",
        "\n",
        "# Conferindo resultado da concatenação\n",
        "trips.head()"
      ],
      "execution_count": 8,
      "outputs": [
        {
          "output_type": "execute_result",
          "data": {
            "text/html": [
              "<div>\n",
              "<style scoped>\n",
              "    .dataframe tbody tr th:only-of-type {\n",
              "        vertical-align: middle;\n",
              "    }\n",
              "\n",
              "    .dataframe tbody tr th {\n",
              "        vertical-align: top;\n",
              "    }\n",
              "\n",
              "    .dataframe thead th {\n",
              "        text-align: right;\n",
              "    }\n",
              "</style>\n",
              "<table border=\"1\" class=\"dataframe\">\n",
              "  <thead>\n",
              "    <tr style=\"text-align: right;\">\n",
              "      <th></th>\n",
              "      <th>dropoff_datetime</th>\n",
              "      <th>dropoff_latitude</th>\n",
              "      <th>dropoff_longitude</th>\n",
              "      <th>fare_amount</th>\n",
              "      <th>passenger_count</th>\n",
              "      <th>payment_type</th>\n",
              "      <th>pickup_datetime</th>\n",
              "      <th>pickup_latitude</th>\n",
              "      <th>pickup_longitude</th>\n",
              "      <th>rate_code</th>\n",
              "      <th>store_and_fwd_flag</th>\n",
              "      <th>surcharge</th>\n",
              "      <th>tip_amount</th>\n",
              "      <th>tolls_amount</th>\n",
              "      <th>total_amount</th>\n",
              "      <th>trip_distance</th>\n",
              "      <th>vendor_id</th>\n",
              "    </tr>\n",
              "  </thead>\n",
              "  <tbody>\n",
              "    <tr>\n",
              "      <th>0</th>\n",
              "      <td>2009-04-21T18:57:09.433767+00:00</td>\n",
              "      <td>40.747950</td>\n",
              "      <td>-73.994712</td>\n",
              "      <td>5.4</td>\n",
              "      <td>2</td>\n",
              "      <td>Cash</td>\n",
              "      <td>2009-04-21T18:51:11.767205+00:00</td>\n",
              "      <td>40.742950</td>\n",
              "      <td>-74.004114</td>\n",
              "      <td>NaN</td>\n",
              "      <td>NaN</td>\n",
              "      <td>0.0</td>\n",
              "      <td>0.0</td>\n",
              "      <td>0.0</td>\n",
              "      <td>5.4</td>\n",
              "      <td>0.80</td>\n",
              "      <td>CMT</td>\n",
              "    </tr>\n",
              "    <tr>\n",
              "      <th>1</th>\n",
              "      <td>2009-01-13T07:50:36.386011+00:00</td>\n",
              "      <td>40.792385</td>\n",
              "      <td>-73.940449</td>\n",
              "      <td>15.4</td>\n",
              "      <td>1</td>\n",
              "      <td>Cash</td>\n",
              "      <td>2009-01-13T07:40:07.639754+00:00</td>\n",
              "      <td>40.747784</td>\n",
              "      <td>-73.996506</td>\n",
              "      <td>NaN</td>\n",
              "      <td>NaN</td>\n",
              "      <td>0.0</td>\n",
              "      <td>0.0</td>\n",
              "      <td>0.0</td>\n",
              "      <td>15.4</td>\n",
              "      <td>5.40</td>\n",
              "      <td>CMT</td>\n",
              "    </tr>\n",
              "    <tr>\n",
              "      <th>2</th>\n",
              "      <td>2009-01-06T19:43:09.908429+00:00</td>\n",
              "      <td>40.768108</td>\n",
              "      <td>-73.944535</td>\n",
              "      <td>6.1</td>\n",
              "      <td>5</td>\n",
              "      <td>CASH</td>\n",
              "      <td>2009-01-06T19:30:44.142187+00:00</td>\n",
              "      <td>40.752070</td>\n",
              "      <td>-73.951340</td>\n",
              "      <td>NaN</td>\n",
              "      <td>NaN</td>\n",
              "      <td>1.0</td>\n",
              "      <td>0.0</td>\n",
              "      <td>0.0</td>\n",
              "      <td>7.1</td>\n",
              "      <td>1.67</td>\n",
              "      <td>VTS</td>\n",
              "    </tr>\n",
              "    <tr>\n",
              "      <th>3</th>\n",
              "      <td>2009-09-24T08:41:56.739991+00:00</td>\n",
              "      <td>40.721812</td>\n",
              "      <td>-73.958122</td>\n",
              "      <td>12.9</td>\n",
              "      <td>1</td>\n",
              "      <td>CASH</td>\n",
              "      <td>2009-09-24T08:28:09.004451+00:00</td>\n",
              "      <td>40.729128</td>\n",
              "      <td>-74.001117</td>\n",
              "      <td>NaN</td>\n",
              "      <td>NaN</td>\n",
              "      <td>0.5</td>\n",
              "      <td>0.0</td>\n",
              "      <td>0.0</td>\n",
              "      <td>13.4</td>\n",
              "      <td>4.13</td>\n",
              "      <td>VTS</td>\n",
              "    </tr>\n",
              "    <tr>\n",
              "      <th>4</th>\n",
              "      <td>2009-10-29T05:57:22.880174+00:00</td>\n",
              "      <td>40.776075</td>\n",
              "      <td>-73.979757</td>\n",
              "      <td>7.7</td>\n",
              "      <td>1</td>\n",
              "      <td>CASH</td>\n",
              "      <td>2009-10-29T05:50:39.214629+00:00</td>\n",
              "      <td>40.756873</td>\n",
              "      <td>-73.976600</td>\n",
              "      <td>NaN</td>\n",
              "      <td>NaN</td>\n",
              "      <td>0.5</td>\n",
              "      <td>0.0</td>\n",
              "      <td>0.0</td>\n",
              "      <td>8.2</td>\n",
              "      <td>2.03</td>\n",
              "      <td>VTS</td>\n",
              "    </tr>\n",
              "  </tbody>\n",
              "</table>\n",
              "</div>"
            ],
            "text/plain": [
              "                   dropoff_datetime  dropoff_latitude  ...  trip_distance  vendor_id\n",
              "0  2009-04-21T18:57:09.433767+00:00         40.747950  ...           0.80        CMT\n",
              "1  2009-01-13T07:50:36.386011+00:00         40.792385  ...           5.40        CMT\n",
              "2  2009-01-06T19:43:09.908429+00:00         40.768108  ...           1.67        VTS\n",
              "3  2009-09-24T08:41:56.739991+00:00         40.721812  ...           4.13        VTS\n",
              "4  2009-10-29T05:57:22.880174+00:00         40.776075  ...           2.03        VTS\n",
              "\n",
              "[5 rows x 17 columns]"
            ]
          },
          "metadata": {
            "tags": []
          },
          "execution_count": 8
        }
      ]
    },
    {
      "cell_type": "code",
      "metadata": {
        "id": "oD_-IiIFI9V0",
        "colab_type": "code",
        "colab": {
          "base_uri": "https://localhost:8080/",
          "height": 129
        },
        "outputId": "403ac509-b649-4c02-bdba-d3bc88d40124"
      },
      "source": [
        "# Criar função de quebra de data e hora\n",
        "def funcConverteData(date_time):\n",
        "  # Delimitador de Data '-'\n",
        "  date_time = date_time.split('-')\n",
        "\n",
        " year = int(date_time[0])\n",
        " month = int(date_time[1])\n",
        " day = int(date_time[2][0:2]) \n",
        "  \n",
        "  # Delimitador de Hora ':'\n",
        "  time = date_time[2][4:].split(':')\n",
        "\n",
        "  hour = int(time[0])\n",
        "  minu = int(time[1])\n",
        "  sec = int(time[2][:2])\n",
        "\n",
        "  # Retorno de DateTime convertido\n",
        "  return datetime.datetime(year,month,day,hour,minu,sec)"
      ],
      "execution_count": 21,
      "outputs": [
        {
          "output_type": "error",
          "ename": "IndentationError",
          "evalue": "ignored",
          "traceback": [
            "\u001b[0;36m  File \u001b[0;32m\"<ipython-input-21-e4068e4f56de>\"\u001b[0;36m, line \u001b[0;32m6\u001b[0m\n\u001b[0;31m    year = int(date_time[0])\u001b[0m\n\u001b[0m                            ^\u001b[0m\n\u001b[0;31mIndentationError\u001b[0m\u001b[0;31m:\u001b[0m unindent does not match any outer indentation level\n"
          ]
        }
      ]
    },
    {
      "cell_type": "code",
      "metadata": {
        "id": "t5R--Q1g3M7N",
        "colab_type": "code",
        "colab": {
          "base_uri": "https://localhost:8080/",
          "height": 350
        },
        "outputId": "5be01235-c6b4-4087-ac0a-4d6d3c1b814e"
      },
      "source": [
        "# Executar funções de data para quebras\n",
        "\n",
        "funcConverteData(trips.pickup_datetime[0])\n",
        "trips.pickup_datetime = trips.pickup_datetime.apply(funcConverteData)\n",
        "trips.dropoff_datetime = trips.dropoff_datetime.apply(funcConverteData)"
      ],
      "execution_count": 19,
      "outputs": [
        {
          "output_type": "error",
          "ename": "AttributeError",
          "evalue": "ignored",
          "traceback": [
            "\u001b[0;31m---------------------------------------------------------------------------\u001b[0m",
            "\u001b[0;31mAttributeError\u001b[0m                            Traceback (most recent call last)",
            "\u001b[0;32m<ipython-input-19-3e019ff9ec09>\u001b[0m in \u001b[0;36m<module>\u001b[0;34m()\u001b[0m\n\u001b[1;32m      1\u001b[0m \u001b[0;31m# Executar funções de data para quebras\u001b[0m\u001b[0;34m\u001b[0m\u001b[0;34m\u001b[0m\u001b[0;34m\u001b[0m\u001b[0m\n\u001b[1;32m      2\u001b[0m \u001b[0;34m\u001b[0m\u001b[0m\n\u001b[0;32m----> 3\u001b[0;31m \u001b[0mfuncConverteData\u001b[0m\u001b[0;34m(\u001b[0m\u001b[0mtrips\u001b[0m\u001b[0;34m.\u001b[0m\u001b[0mpickup_datetime\u001b[0m\u001b[0;34m[\u001b[0m\u001b[0;36m0\u001b[0m\u001b[0;34m]\u001b[0m\u001b[0;34m)\u001b[0m\u001b[0;34m\u001b[0m\u001b[0;34m\u001b[0m\u001b[0m\n\u001b[0m\u001b[1;32m      4\u001b[0m \u001b[0mtrips\u001b[0m\u001b[0;34m.\u001b[0m\u001b[0mpickup_datetime\u001b[0m \u001b[0;34m=\u001b[0m \u001b[0mtrips\u001b[0m\u001b[0;34m.\u001b[0m\u001b[0mpickup_datetime\u001b[0m\u001b[0;34m.\u001b[0m\u001b[0mapply\u001b[0m\u001b[0;34m(\u001b[0m\u001b[0mfuncConverteData\u001b[0m\u001b[0;34m)\u001b[0m\u001b[0;34m\u001b[0m\u001b[0;34m\u001b[0m\u001b[0m\n\u001b[1;32m      5\u001b[0m \u001b[0mtrips\u001b[0m\u001b[0;34m.\u001b[0m\u001b[0mdropoff_datetime\u001b[0m \u001b[0;34m=\u001b[0m \u001b[0mtrips\u001b[0m\u001b[0;34m.\u001b[0m\u001b[0mdropoff_datetime\u001b[0m\u001b[0;34m.\u001b[0m\u001b[0mapply\u001b[0m\u001b[0;34m(\u001b[0m\u001b[0mfuncConverteData\u001b[0m\u001b[0;34m)\u001b[0m\u001b[0;34m\u001b[0m\u001b[0;34m\u001b[0m\u001b[0m\n",
            "\u001b[0;32m<ipython-input-18-ffa44272b781>\u001b[0m in \u001b[0;36mfuncConverteData\u001b[0;34m(date_time)\u001b[0m\n\u001b[1;32m      2\u001b[0m \u001b[0;32mdef\u001b[0m \u001b[0mfuncConverteData\u001b[0m\u001b[0;34m(\u001b[0m\u001b[0mdate_time\u001b[0m\u001b[0;34m)\u001b[0m\u001b[0;34m:\u001b[0m\u001b[0;34m\u001b[0m\u001b[0;34m\u001b[0m\u001b[0m\n\u001b[1;32m      3\u001b[0m   \u001b[0;31m# Delimitador de Data '-'\u001b[0m\u001b[0;34m\u001b[0m\u001b[0;34m\u001b[0m\u001b[0;34m\u001b[0m\u001b[0m\n\u001b[0;32m----> 4\u001b[0;31m   \u001b[0mdate_time\u001b[0m \u001b[0;34m=\u001b[0m \u001b[0mdate_time\u001b[0m\u001b[0;34m.\u001b[0m\u001b[0msplit\u001b[0m\u001b[0;34m(\u001b[0m\u001b[0;34m'-'\u001b[0m\u001b[0;34m)\u001b[0m\u001b[0;34m\u001b[0m\u001b[0;34m\u001b[0m\u001b[0m\n\u001b[0m\u001b[1;32m      5\u001b[0m \u001b[0;34m\u001b[0m\u001b[0m\n\u001b[1;32m      6\u001b[0m   \u001b[0mday\u001b[0m \u001b[0;34m=\u001b[0m \u001b[0mint\u001b[0m\u001b[0;34m(\u001b[0m\u001b[0mdate_time\u001b[0m\u001b[0;34m[\u001b[0m\u001b[0;36m2\u001b[0m\u001b[0;34m]\u001b[0m\u001b[0;34m[\u001b[0m\u001b[0;36m0\u001b[0m\u001b[0;34m:\u001b[0m\u001b[0;36m2\u001b[0m\u001b[0;34m]\u001b[0m\u001b[0;34m)\u001b[0m\u001b[0;34m\u001b[0m\u001b[0;34m\u001b[0m\u001b[0m\n",
            "\u001b[0;31mAttributeError\u001b[0m: 'Timestamp' object has no attribute 'split'"
          ]
        }
      ]
    },
    {
      "cell_type": "code",
      "metadata": {
        "id": "3lp6Mwnp47tm",
        "colab_type": "code",
        "colab": {}
      },
      "source": [
        "# Importar biblioteca para arrays multidimensionais\n",
        "import numpy as  num"
      ],
      "execution_count": 22,
      "outputs": []
    },
    {
      "cell_type": "markdown",
      "metadata": {
        "id": "lRbxjQMW3pn3",
        "colab_type": "text"
      },
      "source": [
        "Pergunta 1: Distância média percorrida por viagens com no máximo dois passageiros?\n",
        "\n",
        " "
      ]
    },
    {
      "cell_type": "code",
      "metadata": {
        "id": "v3t-Ehcv36Jh",
        "colab_type": "code",
        "colab": {
          "base_uri": "https://localhost:8080/",
          "height": 34
        },
        "outputId": "afad004b-0ff6-46b8-f157-85a4e93a0345"
      },
      "source": [
        "mediaPassageiros = num.mean(trips.loc[trips.passenger_count <= 2,'trip_distance'])\n",
        "mediaPassageiros"
      ],
      "execution_count": 13,
      "outputs": [
        {
          "output_type": "execute_result",
          "data": {
            "text/plain": [
              "2.6625269962030926"
            ]
          },
          "metadata": {
            "tags": []
          },
          "execution_count": 13
        }
      ]
    },
    {
      "cell_type": "markdown",
      "metadata": {
        "id": "i1Oiu7WY6JpB",
        "colab_type": "text"
      },
      "source": [
        "Pergunta 2: Quais os 3 maiores vendors em quantidade total de dinheiro arrecadado?\n",
        "\n",
        " "
      ]
    },
    {
      "cell_type": "code",
      "metadata": {
        "id": "Eo65LJSa6E-2",
        "colab_type": "code",
        "colab": {
          "base_uri": "https://localhost:8080/",
          "height": 119
        },
        "outputId": "da2d8ea9-9f6b-4031-ef8b-201a198c9b1e"
      },
      "source": [
        "maioresVendors = trips.groupby(trips.vendor_id).total_amount.sum().sort_values(ascending=False)\n",
        "maioresVendors"
      ],
      "execution_count": 13,
      "outputs": [
        {
          "output_type": "execute_result",
          "data": {
            "text/plain": [
              "vendor_id\n",
              "CMT    1.954908e+07\n",
              "VTS    1.904343e+07\n",
              "DDS    2.714902e+06\n",
              "TS     4.560000e+01\n",
              "Name: total_amount, dtype: float64"
            ]
          },
          "metadata": {
            "tags": []
          },
          "execution_count": 13
        }
      ]
    },
    {
      "cell_type": "markdown",
      "metadata": {
        "id": "Yto3BTIa7H7G",
        "colab_type": "text"
      },
      "source": [
        "Pergunta 3: Histograma da distribuição mensal, nos 4 anos, de corridas pagas em dinheiro."
      ]
    },
    {
      "cell_type": "code",
      "metadata": {
        "id": "fJbSqM1T7M7E",
        "colab_type": "code",
        "colab": {
          "base_uri": "https://localhost:8080/",
          "height": 255
        },
        "outputId": "3997d573-fb91-4f01-f66d-8c6b38f1713d"
      },
      "source": [
        "# Filtrando os dados\n",
        "tripsAmostra = trips.loc[trips.passenger_count <= 2]\n",
        "tripsAmostra = tripsAmostra.loc[tripsAmostra.payment_type == 'CASH']\n",
        "tripsAmostra.head"
      ],
      "execution_count": 28,
      "outputs": [
        {
          "output_type": "execute_result",
          "data": {
            "text/plain": [
              "<bound method NDFrame.head of            dropoff_datetime  dropoff_latitude  ...  trip_distance  vendor_id\n",
              "3       2009-09-24 08:41:56         40.721812  ...           4.13        VTS\n",
              "4       2009-10-29 05:57:22         40.776075  ...           2.03        VTS\n",
              "5       2009-10-23 07:23:51         40.750478  ...           1.15        VTS\n",
              "6       2009-03-30 09:47:12         40.774042  ...           8.61        VTS\n",
              "8       2009-03-30 03:32:11         40.761585  ...           1.04        VTS\n",
              "...                     ...               ...  ...            ...        ...\n",
              "3999970 2012-06-08 00:31:43         40.747165  ...           0.93        VTS\n",
              "3999974 2012-07-11 04:00:30         40.778577  ...           0.40        DDS\n",
              "3999975 2012-07-09 04:27:48         40.745015  ...           2.00        DDS\n",
              "3999976 2012-06-29 01:16:01         40.782703  ...           1.40        DDS\n",
              "3999987 2012-01-22 01:09:00         40.780963  ...           0.80        DDS\n",
              "\n",
              "[1261976 rows x 17 columns]>"
            ]
          },
          "metadata": {
            "tags": []
          },
          "execution_count": 28
        }
      ]
    },
    {
      "cell_type": "code",
      "metadata": {
        "id": "iy4IlPPe3WQm",
        "colab_type": "code",
        "colab": {
          "base_uri": "https://localhost:8080/",
          "height": 475
        },
        "outputId": "e360478e-b6ed-4f28-e3ee-e4ec596762d1"
      },
      "source": [
        "# Gerando o Histograma\n",
        "plt.subplots(figsize=(7,7))\n",
        "plt.hist(tripsAmostra.loc[tripsAmostra.passenger_count <= 2,'trip_distance'])\n",
        "plt.xlim((0,10))\n",
        "plt.yticks(list(range(0,1200001,200000)) , ['0','200K','400K','600K','800K','1M','5M','10M','25M','50M'])\n",
        "plt.xlabel('Distância em Quilômetros')\n",
        "plt.ylabel('Contagem de Viagens')\n",
        "plt.title('Distância Percorrida Por Viagens')\n",
        "plt.legend()\n",
        "plt.show()"
      ],
      "execution_count": 27,
      "outputs": [
        {
          "output_type": "stream",
          "text": [
            "No handles with labels found to put in legend.\n"
          ],
          "name": "stderr"
        },
        {
          "output_type": "display_data",
          "data": {
            "image/png": "[encoded data removed]",
            "text/plain": [
              "<Figure size 504x504 with 1 Axes>"
            ]
          },
          "metadata": {
            "tags": [],
            "needs_background": "light"
          }
        }
      ]
    }
  ]
}